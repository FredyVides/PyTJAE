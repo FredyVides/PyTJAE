{
 "cells": [
  {
   "cell_type": "markdown",
   "id": "academic-share",
   "metadata": {},
   "source": [
    "# Computing Truncated Joint Approximate Eigenbases for Model Order Reduction"
   ]
  },
  {
   "cell_type": "markdown",
   "id": "available-planet",
   "metadata": {},
   "source": [
    "### Code by: Fredy Vides"
   ]
  },
  {
   "cell_type": "markdown",
   "id": "level-cannon",
   "metadata": {},
   "source": [
    "## Additional settings for Google Colab"
   ]
  },
  {
   "cell_type": "code",
   "execution_count": 15,
   "id": "liable-trainer",
   "metadata": {},
   "outputs": [],
   "source": [
    "#!pip install -U statsmodels"
   ]
  },
  {
   "cell_type": "markdown",
   "id": "atlantic-cement",
   "metadata": {},
   "source": [
    "## Joint eigenbases computation function"
   ]
  },
  {
   "cell_type": "code",
   "execution_count": 16,
   "id": "dominant-mauritius",
   "metadata": {},
   "outputs": [],
   "source": [
    "#!/usr/bin/env python3\n",
    "\"\"\"\n",
    "Created on Sat Jan  1 18:04:52 2022\n",
    "joint_diag approximate joint diagonalization method\n",
    "   Code by Fredy Vides\n",
    "   For Paper, \"Quadratic pseudospectrum and optimal joint approximate eigenvectors\"\n",
    "   by T. Loring, F. Vides\n",
    "@author: Fredy Vides\n",
    "\n",
    "This code is based on the matlab program joint_diag.m by J.-F. Cardoso\n",
    "\"\"\"\n",
    "\n",
    "def joint_diag(A,jthresh):\n",
    "    from numpy import array,zeros,identity,real,argsort,sqrt,conj\n",
    "    from numpy.linalg import eig\n",
    "    m = A.shape[0]\n",
    "    nm = A.shape[1]\n",
    "    A = A.astype(complex)\n",
    "    B = array([[1,0,0],[0,1,1],[0,-1j,1j]])\n",
    "    Bt = B.conj().T\n",
    "    Ip = zeros((1,nm))\n",
    "    Iq = zeros((1,nm))\n",
    "    n = int(nm/m)\n",
    "    g = zeros((3,n))\n",
    "    g = g.astype(complex)\n",
    "    G = zeros((2,2))\n",
    "    vcp = zeros((3,3))\n",
    "    D  = zeros((3,3))\n",
    "    K = zeros((3,3))\n",
    "    angles = zeros((3,1))\n",
    "    pair = zeros((1,2))\n",
    "    c = 0\n",
    "    s = 0\n",
    "    V = identity(m)\n",
    "    V = V.astype(complex)\n",
    "    encore\t= 1\n",
    "    while encore:\n",
    "        encore=0\n",
    "        for p in range(1,m):\n",
    "            Ip = range(p-1,nm,m)\n",
    "            for q in range(p+1,m+1):\n",
    "                Iq = range(q-1,nm,m)\n",
    "                g[0,:] = A[p-1,Ip]-A[q-1,Iq]\n",
    "                g[1,:] = A[p-1,Iq]\n",
    "                g[2,:] = A[q-1,Ip]\n",
    "                D,vcp = eig(real(B@(g@g.conj().T)@Bt))\n",
    "                K = argsort(D)\n",
    "                angles  = vcp[:,K[2]]\n",
    "                if angles[0]<0:\n",
    "                    angles = -angles\n",
    "                c = sqrt(0.5+angles[0]/2)\n",
    "                s = 0.5*(angles[1]-1j*angles[2])/c\n",
    "                if abs(s)>jthresh:\n",
    "                    encore = 1\n",
    "                    pair = array([p-1,q-1])\n",
    "                    G = array([[c,-conj(s)],[s,c]])\n",
    "                    V[:,pair] = V[:,pair]@G\n",
    "                    A[pair,:] = G.conj().T @ A[pair,:]\n",
    "                    AIp = A[:,Ip]\n",
    "                    AIq = A[:,Iq]\n",
    "                    A[:,Ip]=c*AIp+s*AIq\n",
    "                    A[:,Iq]=-conj(s)*AIp+c*AIq\n",
    "    D = A\n",
    "    return V,D"
   ]
  },
  {
   "cell_type": "markdown",
   "id": "editorial-filling",
   "metadata": {},
   "source": [
    "## Truncated Joint Approximate Eigenbses Computation"
   ]
  },
  {
   "cell_type": "code",
   "execution_count": 17,
   "id": "social-bhutan",
   "metadata": {},
   "outputs": [],
   "source": [
    "#!/usr/bin/env python3\n",
    "\"\"\"\n",
    "Created on Sat Jan  1 18:04:52 2022\n",
    "partial joint_diag approximate joint diagonalization method\n",
    "   Code by Fredy Vides\n",
    "   For Paper, \"Quadratic pseudospectrum and optimal joint approximate eigenvectors\"\n",
    "   by T. Loring, F. Vides\n",
    "@author: Fredy Vides\n",
    "\n",
    "Code based on the Matlab program joint_diag.m by\n",
    " J. F. Cardoso\n",
    "\"\"\"\n",
    "\n",
    "def P_Joint_Diag(A,lambda0,sigma0,L,delta):\n",
    "    from numpy import identity,kron\n",
    "    from scipy.sparse.linalg import eigs\n",
    "    from numpy.linalg import eig\n",
    "    m = A.shape[0]\n",
    "    mn = A.shape[1]\n",
    "    n=int(mn/m)\n",
    "    F=identity(m)\n",
    "    A=A.astype(complex)\n",
    "    A=A-kron(lambda0,F)\n",
    "    C=A@A.conj().T\n",
    "    C=(C+C.conj().T)/2\n",
    "    E=identity(n)\n",
    "    if L<(m-1):\n",
    "        V=eigs(C,k=L, M=None, sigma=None, which=sigma0, v0=None, ncv=None, maxiter=None, tol=delta)[1]\n",
    "    else:\n",
    "        L=m\n",
    "        V=eig(C)[1]\n",
    "    C0=V.conj().T@A@kron(E,V)\n",
    "    for j in range(n):\n",
    "        D0=C0[:,j*L:(j+1)*L].astype(complex)\n",
    "        D0=(D0+D0.conj().T)/2\n",
    "        C0[:,j*L:(j+1)*L]=D0\n",
    "    W = joint_diag(C0,delta)[0]\n",
    "    V=V@W\n",
    "    return V"
   ]
  },
  {
   "cell_type": "markdown",
   "id": "banned-spoke",
   "metadata": {},
   "source": [
    "## Data visualization function"
   ]
  },
  {
   "cell_type": "code",
   "execution_count": 18,
   "id": "hundred-modern",
   "metadata": {},
   "outputs": [],
   "source": [
    "def DataView(X,Y,S,idx):\n",
    "    from matplotlib.pyplot import subplot,figure,plot,show\n",
    "    from numpy import real,imag\n",
    "    fig_0=figure(1)\n",
    "    subplot(221)\n",
    "    plot(X[idx[0],:]),plot(Y[idx[0],:],'r')\n",
    "    subplot(222)\n",
    "    plot(real(X[idx[0],:]-Y[idx[0],:]))\n",
    "    subplot(223)\n",
    "    plot(X[idx[1],:]),plot(Y[idx[1],:],'r')\n",
    "    subplot(224)\n",
    "    plot(real(X[idx[1],:]-Y[idx[1],:]))\n",
    "    show()\n",
    "    fig_1=figure(2)\n",
    "    subplot(221)\n",
    "    plot(real(S[idx[0],:]))\n",
    "    subplot(222)\n",
    "    plot(imag(S[idx[0],:]))\n",
    "    subplot(223)\n",
    "    plot(real(S[idx[1],:]))\n",
    "    subplot(224)\n",
    "    plot(imag(S[idx[1],:]))\n",
    "    show()\n",
    "    fig_0.savefig('fig_results_summary_0'+str(1)+'.png',dpi=600,format='png')\n",
    "    fig_1.savefig('fig_results_summary_0'+str(2)+'.png',dpi=600,format='png')"
   ]
  },
  {
   "cell_type": "markdown",
   "id": "understanding-mention",
   "metadata": {},
   "source": [
    "## Cumulant estimate function"
   ]
  },
  {
   "cell_type": "code",
   "execution_count": 19,
   "id": "detected-ambassador",
   "metadata": {},
   "outputs": [],
   "source": [
    "#!/usr/bin/env python3\n",
    "\"\"\"\n",
    "Created on Sat Jan  1 18:04:52 2022\n",
    "partial joint_diag approximate joint diagonalization method\n",
    "   Code by Fredy Vides\n",
    "   For Paper, \"Quadratic pseudospectrum and optimal joint approximate eigenvectors\"\n",
    "   by T. Loring, F. Vides\n",
    "@author: Fredy Vides\n",
    "\n",
    "Code based on the program jade.m\n",
    " by J.-F. Cardoso.\n",
    "\"\"\"\n",
    "\n",
    "def CumulantEstimate(X,m=0):\n",
    "    from numpy import argsort,ones,sqrt,mean,zeros,reshape,conj,diag,dot\n",
    "    from numpy.linalg import eig,inv\n",
    "    from scipy.linalg import sqrtm\n",
    "    n = X.shape[0]\n",
    "    T = X.shape[1]\n",
    "    if m==0:\n",
    "        m=n\n",
    "    nem = m\n",
    "    if m<n:\n",
    "        D,U = eig((X@X.conj().T)/T)\n",
    "        k = argsort(D)\n",
    "        puiss = D[k]\n",
    "        ibl = sqrt(puiss[(n-m):n]-mean(puiss[0:(n-m)]))\n",
    "        bl \t= ones(m)/ibl\n",
    "        W\t= diag(bl)@U[:,k[(n-m):n]].conj().T\n",
    "        IW \t= U[:,k[(n-m):n]]@diag(ibl)\n",
    "    else:\n",
    "        IW \t= sqrtm((X@X.conj().T)/T)\n",
    "        W\t= inv(IW)\n",
    "    Y = W@(X-reshape(mean(X,1),(n,1))@ones((1,T)))\n",
    "    \n",
    "    R\t= (Y@Y.conj().T)/T\n",
    "    C\t= (Y@Y.T)/T\n",
    "    \n",
    "    Yl\t= zeros((1,T))\n",
    "    Ykl\t= zeros((1,T))\n",
    "    Yjkl = zeros((1,T))\n",
    "    Q = zeros((m*m*m*m,1))\n",
    "    Q = Q.astype(complex)\n",
    "    index = 0\n",
    "    \n",
    "    for lx in range(m):\n",
    "        Yl = Y[lx,:]\n",
    "        for kx in range(m):\n",
    "            Ykl = Yl*conj(Y[kx,:])\n",
    "            for jx in range(m):\n",
    "                Yjkl = Ykl*conj(Y[jx,:])\n",
    "                for ix in range(m):\n",
    "                    Q[index] = dot(Yjkl,Y[ix,:])/T -  R[ix,jx]*R[lx,kx] -  R[ix,kx]*R[lx,jx] -  C[ix,lx]*conj(C[jx,kx])\n",
    "                    index = index + 1\n",
    "                    \n",
    "    D,U\t= eig(reshape(Q,(m*m,m*m)).T)\n",
    "    K = argsort(abs(D))\n",
    "    la = D[K]\n",
    "    \n",
    "    C = zeros((m,nem*m))\n",
    "    C = C.astype(complex)\n",
    "    h\t= m*m-1\n",
    "    for u in range(0,nem*m,m):\n",
    "        Z = reshape(U[:,K[h]],(m,m)).T\n",
    "        C[:,u:(u+m)]\t= la[h]*Z\n",
    "        h = h-1\n",
    "    \n",
    "    return C,IW"
   ]
  },
  {
   "cell_type": "markdown",
   "id": "handed-impossible",
   "metadata": {},
   "source": [
    "## JAE based dimensionality reduction function"
   ]
  },
  {
   "cell_type": "code",
   "execution_count": 20,
   "id": "occasional-polymer",
   "metadata": {},
   "outputs": [],
   "source": [
    "\"\"\"\n",
    "Created on Sat Jan  1 18:04:52 2022\n",
    "Dimensionality reduction methods based on partial joint_diag approximate joint \n",
    "diagonalization method\n",
    "\n",
    "   Code by Fredy Vides\n",
    "   For Paper, \"Quadratic pseudospectrum and optimal joint approximate eigenvectors\"\n",
    "   by T. Loring, F. Vides\n",
    "@author: Fredy Vides\n",
    "\n",
    "Code based on the program jade.m\n",
    " by J.-F. Cardoso.\n",
    "\"\"\"\n",
    "def drJADE(X,m,L,tol):\n",
    "    from numpy import reshape,zeros,mean,ones\n",
    "    from numpy.linalg import lstsq\n",
    "    from time import time\n",
    "    start = time()\n",
    "    C,IW=CumulantEstimate(X,m)\n",
    "    end=time()\n",
    "    print(\"Cumulant estimate runtime: \",end-start)\n",
    "    start = time()\n",
    "    V=P_Joint_Diag(C,zeros((1,m)),'LM',L,tol)\n",
    "    end = time()\n",
    "    print(\"Approximate joint diagonalization runtime: \",end-start)\n",
    "    Sr = V.conj().T@lstsq(IW,X,rcond=None)[0]\n",
    "    T = reshape(mean(X,1),(X.shape[0],1))@ones((1,X.shape[1]))\n",
    "    Xr = IW@V@Sr+T\n",
    "    return X,T,Xr,Sr,C,IW,V"
   ]
  },
  {
   "cell_type": "markdown",
   "id": "corporate-diamond",
   "metadata": {},
   "source": [
    "## Synthetic Signal Generator"
   ]
  },
  {
   "cell_type": "code",
   "execution_count": 21,
   "id": "respiratory-climb",
   "metadata": {},
   "outputs": [],
   "source": [
    "# Example: X=SyntheticSignals(1e-1)\n",
    "def SyntheticSignals(noise):\n",
    "    from numpy import sin,cos,reshape,linspace,pi,zeros\n",
    "    from numpy.random import randn\n",
    "    t = linspace(0,30,15000)\n",
    "    X = reshape(range(10),(10,1))@reshape(t,(1,15000))\n",
    "    Y = zeros((50,15000))\n",
    "    Y[:10,:] = sin(pi*X)\n",
    "    Y[10:20,:] = cos(pi*X)\n",
    "    Y[20:30,:] = sin(pi*(X+20))\n",
    "    Y[30:40,:] = cos(pi*(X+20))\n",
    "    Y[40:44,:] = sin(pi*(X[:4,:]+10))\n",
    "    Y[44:48,:] = cos(pi*(X[:4,:]+10))\n",
    "    Y[48:,:] = noise*randn(2,15000)\n",
    "    A=zeros((50,50))\n",
    "    A[:,:5] = randn(50,5)\n",
    "    A[:,5:10] = noise*randn(50,5)\n",
    "    A[:,10:15] = randn(50,5)\n",
    "    A[:,15:20] = noise*randn(50,5)\n",
    "    A[:,20:23] = randn(50,3)\n",
    "    A[:,23:25] = noise*randn(50,2)\n",
    "    A[:,25:27] = randn(50,2)\n",
    "    A[:,27:] = randn(50,23)*noise\n",
    "    X = A@Y\n",
    "    return X"
   ]
  },
  {
   "cell_type": "markdown",
   "id": "crazy-bloom",
   "metadata": {},
   "source": [
    "## Sparse linear least squares solver"
   ]
  },
  {
   "cell_type": "code",
   "execution_count": 22,
   "id": "loaded-czech",
   "metadata": {},
   "outputs": [],
   "source": [
    "#!/usr/bin/env python3\n",
    "\"\"\"\n",
    "Created on Wed Mar 31 02:57:52 2021\n",
    "LSSPSOLVER  Sparse linear least squares solver\n",
    "   Code by Fredy Vides\n",
    "   For Paper, \"Computing Sparse Semilinear Models for Approximately Eventually Periodic Signals\"\n",
    "   by F. Vides\n",
    "@author: Fredy Vides\n",
    "\"\"\"\n",
    "\n",
    "def lsspsolver(A,Y,L=100,tol=1e-2,delta=1e-2):\n",
    "    from numpy.linalg import svd,lstsq,norm\n",
    "    from numpy import zeros,dot,diag,argsort,inf\n",
    "    N=A.shape[1]\n",
    "    X=zeros((N,))\n",
    "    u,s,v=svd(A,full_matrices=0)\n",
    "    rk=sum(s>tol)\n",
    "    u=u[:,:rk]\n",
    "    s=s[:rk]\n",
    "    s=1/s\n",
    "    s=diag(s)\n",
    "    v=v[:rk,:]\n",
    "    A=dot(u.conj().T,A)\n",
    "    Y=dot(u.conj().T,Y)\n",
    "    X0=dot(v.conj().T,dot(s,Y))\n",
    "    w=zeros((N,))\n",
    "    K=1\n",
    "    Error=1+tol\n",
    "    c=X0\n",
    "    x0=c\n",
    "    ac=abs(c)\n",
    "    f=argsort(-ac)\n",
    "    N0=max(sum(ac[f]>delta),1)\n",
    "    while (K<=L) & (Error>tol):\n",
    "        ff=f[:N0]\n",
    "        X=w\n",
    "        c = lstsq(A[:,ff],Y,rcond=None)[0]\n",
    "        X[ff]=c\n",
    "        Error=norm(x0-X[:],inf)\n",
    "        x0=X\n",
    "        ac=abs(x0)\n",
    "        f=argsort(-ac)\n",
    "        N0=max(sum(ac[f]>delta),1)\n",
    "        K=K+1\n",
    "    return X"
   ]
  },
  {
   "cell_type": "markdown",
   "id": "established-albuquerque",
   "metadata": {},
   "source": [
    "## Sparse Autoregressor"
   ]
  },
  {
   "cell_type": "code",
   "execution_count": 23,
   "id": "parental-membership",
   "metadata": {},
   "outputs": [],
   "source": [
    "#!/usr/bin/env python3\n",
    "\"\"\"\n",
    "Created on Wed Mar 31 02:57:52 2021\n",
    "SPAUTOREGRESSOR  Sparse autoregressor for time series modeling\n",
    "   Code by Fredy Vides\n",
    "   For Paper, \"Computing Sparse Semilinear Models for Approximately \n",
    "   Eventually Periodic Signals\"\n",
    "   by F. Vides\n",
    "@author: Fredy Vides\n",
    "\"\"\"\n",
    "def SpAutoRegressor(x,ssp,sp,pp,L0,tol,delta):\n",
    "    from numpy import ceil,floor,max,min\n",
    "    from scipy.linalg import hankel\n",
    "    sl = len(x)\n",
    "    ssp=int(ceil(sl*ssp))\n",
    "    x = x[0:sl:ssp]\n",
    "    sl = len(x)\n",
    "    sp = int(ceil(sp*sl))\n",
    "    xt = x[:sp]\n",
    "    pp = max([min([floor(pp*sp),sl-sp]),L0])\n",
    "    L=L0\n",
    "    H=hankel(xt[:L],xt[(L-1):])\n",
    "    H0=H[:,:-1]\n",
    "    H1=H[L-1,1:]\n",
    "    A = lsspsolver(H0.T,H1.T,L,tol,delta)\n",
    "    return A.T,H0[:,0]   "
   ]
  },
  {
   "cell_type": "markdown",
   "id": "executive-headset",
   "metadata": {},
   "source": [
    "## Sparse predictor"
   ]
  },
  {
   "cell_type": "code",
   "execution_count": 24,
   "id": "effective-kentucky",
   "metadata": {},
   "outputs": [],
   "source": [
    "#!/usr/bin/env python3\n",
    "\"\"\"\n",
    "Created on Wed Mar 31 02:57:52 2021\n",
    "SPARPREDICTOR  Sparse AR predictor for time series modeling\n",
    "   Code by Fredy Vides\n",
    "   For Paper, \"Computing Sparse Semilinear Models for Approximately Eventually Periodic Signals\"\n",
    "   by F. Vides\n",
    "@author: Fredy Vides\n",
    "\"\"\"\n",
    "\n",
    "def SPARPredictor(A,h,N):\n",
    "    from numpy import append\n",
    "    y=h\n",
    "    L = len(h)\n",
    "    for k in range(N):\n",
    "        y = append(y,A.dot(h))\n",
    "        h = y[k+1:L+k+1]\n",
    "    return y"
   ]
  },
  {
   "cell_type": "markdown",
   "id": "hungry-approach",
   "metadata": {},
   "source": [
    "## Lag Estimate Function"
   ]
  },
  {
   "cell_type": "code",
   "execution_count": 25,
   "id": "white-character",
   "metadata": {},
   "outputs": [],
   "source": [
    "#!/usr/bin/env python3\n",
    "\"\"\"\n",
    "Created on Wed Mar 31 02:57:52 2021\n",
    "LAGESTIMATE ACF-FFT based sparse lag estimator\n",
    "   Code by Fredy Vides\n",
    "   For Paper, \"Computing Sparse Semilinear Models for Approximately Eventually Periodic Signals\"\n",
    "   by F. Vides\n",
    "@author: Fredy Vides\n",
    "\"\"\"\n",
    "def LagEstimate(data,L0):\n",
    "    from statsmodels.tsa.stattools import acf \n",
    "    from scipy.signal import find_peaks\n",
    "    from numpy import where\n",
    "    L = acf(data,adjusted=False,nlags=len(data),fft=True)\n",
    "    p = find_peaks(L)\n",
    "    if len(p[0])>0:\n",
    "        q=where(L[p[0]]==L[p[0]].max())\n",
    "        L = max(p[0][q[0][0]],L0)\n",
    "    else:\n",
    "        L = L0\n",
    "    return L"
   ]
  },
  {
   "cell_type": "markdown",
   "id": "north-reservoir",
   "metadata": {},
   "source": [
    "## Source Model Computation"
   ]
  },
  {
   "cell_type": "code",
   "execution_count": 26,
   "id": "described-cedar",
   "metadata": {},
   "outputs": [],
   "source": [
    "# %load SourceModel.py\n",
    "#!/usr/bin/env python3\n",
    "\"\"\"\n",
    "Created on Fri Jan  7 18:15:28 2022\n",
    "SOURCEMODEL Source model computation using JAD based model order \n",
    "    reduction technology\n",
    "    Code by Fredy Vides\n",
    "    For Paper, \"Computing Truncated Joint Approximate Eigenbases for \n",
    "    Model Order Reduction\"\n",
    "    by T. Loring, F. Vides\n",
    "@author: Fredy Vides\n",
    "\"\"\"\n",
    "\n",
    "def SourceModel(Sr,idx,sampling_proportion,delta,tol):\n",
    "    from numpy import real,imag,zeros,append\n",
    "    from time import time\n",
    "    \n",
    "    data = Sr[idx[0]:idx[1],:]\n",
    "    N = data.shape[0]\n",
    "    Ld = data.shape[1]\n",
    "    \n",
    "    Sp = zeros((N,Ld))\n",
    "    Sp = Sp.astype(complex)\n",
    "    \n",
    "    Lags = []\n",
    "    AR = []\n",
    "    AI = []\n",
    "    \n",
    "    start = time()\n",
    "    for k in range(N):\n",
    "        Lag = LagEstimate(real(data[k,:].copy()),10)\n",
    "        steps = Ld-Lag\n",
    "        Lags = append(Lags,Lag)\n",
    "        \n",
    "        xr = real(data[k,:].copy())\n",
    "        xi = imag(data[k,:].copy())\n",
    "        mdr = xr.min()\n",
    "        mdi = xi.min()\n",
    "        Mdr = abs(xr - mdr).max()\n",
    "        Mdi = abs(xi - mdi).max()\n",
    "        xsr = 2*(xr-mdr)/Mdr-1\n",
    "        xsi = 2*(xi-mdi)/Mdi-1\n",
    "        \n",
    "        Ar,h_0r = SpAutoRegressor(xsr,1/len(xsr),sampling_proportion,1,Lag,delta,tol)\n",
    "        Ai,h_0i = SpAutoRegressor(xsi,1/len(xsi),sampling_proportion,1,Lag,delta,tol)\n",
    "        \n",
    "        AR = append(AR,Ar)\n",
    "        AI = append(AI,Ai)\n",
    "        \n",
    "        yr = Mdr*(SPARPredictor(Ar,h_0r,steps)+1)/2+mdr\n",
    "        yi = Mdi*(SPARPredictor(Ai,h_0i,steps)+1)/2+mdi\n",
    "        \n",
    "        Sp[k,:] = yr + 1j*yi\n",
    "    end=time()\n",
    "    print(\"Model computation and source reconstruction runtime: \",end-start)\n",
    "    return Lags,AR,AI,Sp"
   ]
  },
  {
   "cell_type": "markdown",
   "id": "palestinian-hopkins",
   "metadata": {},
   "source": [
    "## Randomness Test Function"
   ]
  },
  {
   "cell_type": "code",
   "execution_count": 27,
   "id": "exciting-message",
   "metadata": {},
   "outputs": [],
   "source": [
    "def ErrorRandomnessTest(idx,X,Xp):\n",
    "    from matplotlib.pyplot import hist,subplot,figure\n",
    "    from scipy.stats import normaltest\n",
    "    from numpy import real\n",
    "    from randtest import random_score\n",
    "    Noise = real(X[idx[0],:]-Xp[idx[0],:])\n",
    "    k1,p0 = normaltest(Noise)\n",
    "    fig_0 = figure(1)\n",
    "    subplot(211)\n",
    "    h0 = hist(Noise,bins=30,density=1,alpha=0.6, color='b')\n",
    "    print('Randomness test result: ',random_score(Noise))\n",
    "    print('Normality test p-value: ',p0)\n",
    "    Noise = real(X[idx[1],:]-Xp[idx[1],:])\n",
    "    k1,p0 = normaltest(Noise)\n",
    "    subplot(212)\n",
    "    h0 = hist(Noise,bins=30,density=1,alpha=0.6, color='b')\n",
    "    print('Randomness test result: ',random_score(Noise))\n",
    "    print('Normality test p-value: ',p0)\n",
    "    fig_0.savefig('fig_results_summary_0'+str(3)+'.png',dpi=600,format='png')"
   ]
  },
  {
   "cell_type": "markdown",
   "id": "together-behavior",
   "metadata": {},
   "source": [
    "## Time Series Model Order Reduction Example"
   ]
  },
  {
   "cell_type": "code",
   "execution_count": 28,
   "id": "universal-trash",
   "metadata": {},
   "outputs": [
    {
     "name": "stdout",
     "output_type": "stream",
     "text": [
      "Cumulant estimate runtime:  5.628060817718506\n",
      "Approximate joint diagonalization runtime:  0.18739938735961914\n",
      "Model computation and source reconstruction runtime:  26.65458083152771\n"
     ]
    },
    {
     "data": {
      "image/png": "[encoded data removed]",
      "text/plain": [
       "<Figure size 432x288 with 4 Axes>"
      ]
     },
     "metadata": {
      "needs_background": "light"
     },
     "output_type": "display_data"
    },
    {
     "data": {
      "image/png": "[encoded data removed]",
      "text/plain": [
       "<Figure size 432x288 with 4 Axes>"
      ]
     },
     "metadata": {
      "needs_background": "light"
     },
     "output_type": "display_data"
    },
    {
     "name": "stdout",
     "output_type": "stream",
     "text": [
      "Testing randomness of some noises.\n",
      "Randomness test result:  True\n",
      "Normality test p-value:  0.475021660365485\n",
      "Randomness test result:  True\n",
      "Normality test p-value:  0.7092812842593954\n"
     ]
    },
    {
     "data": {
      "image/png": "[encoded data removed]",
      "text/plain": [
       "<Figure size 432x288 with 2 Axes>"
      ]
     },
     "metadata": {
      "needs_background": "light"
     },
     "output_type": "display_data"
    }
   ],
   "source": [
    "select = 0\n",
    "idx = [0,1]\n",
    "from pandas import read_csv\n",
    "from numpy import real\n",
    "if select == 0:\n",
    "    url = \"https://raw.githubusercontent.com/FredyVides/PyTJAE/master/DataSets/X.csv\"\n",
    "    X = read_csv(url,header=None).values\n",
    "else:\n",
    "    X = SyntheticSignals(1e-1)\n",
    "X,T,Xr,Sr,C,IW,V=drJADE(X,22,18,1e-2)\n",
    "Lags,Ar,Ai,Sp = SourceModel(Sr,[0,Sr.shape[0]],0.15,1e-1,1e-3)\n",
    "Xp = IW@V@Sp+T\n",
    "DataView(X,real(Xp),Sp,idx)\n",
    "print(\"Testing randomness of some noises.\")\n",
    "ErrorRandomnessTest(idx,X,Xp)"
   ]
  },
  {
   "cell_type": "markdown",
   "id": "middle-caribbean",
   "metadata": {},
   "source": [
    "## References\n",
    "\n",
    "1. T. Loring, F. Vides. Computing Truncated Joint Approximate Eigenbases for Model Order Reduction."
   ]
  }
 ],
 "metadata": {
  "kernelspec": {
   "display_name": "Python 3",
   "language": "python",
   "name": "python3"
  },
  "language_info": {
   "codemirror_mode": {
    "name": "ipython",
    "version": 3
   },
   "file_extension": ".py",
   "mimetype": "text/x-python",
   "name": "python",
   "nbconvert_exporter": "python",
   "pygments_lexer": "ipython3",
   "version": "3.8.10"
  }
 },
 "nbformat": 4,
 "nbformat_minor": 5
}
